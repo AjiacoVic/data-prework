{
 "cells": [
  {
   "cell_type": "markdown",
   "metadata": {},
   "source": [
    "<img src=\"https://bit.ly/2VnXWr2\" width=\"100\" align=\"left\">"
   ]
  },
  {
   "cell_type": "markdown",
   "metadata": {},
   "source": [
    "# Rock, Paper & Scissors\n",
    "\n",
    "Let's play the famous game against our computer. You can check the rules [here](https://en.wikipedia.org/wiki/Rock%E2%80%93paper%E2%80%93scissors). \n",
    "\n",
    "## Task\n",
    "Create a program that imitates the playability of the well known game of rock, paper, scissors. Follow the guidelines provided.\n",
    "\n",
    "## Tools\n",
    "1. Loop: **for/while**\n",
    "2. Functions: **input(), print()...**\n",
    "3. Conditional statements: **if, elif, else**\n",
    "4. Definition of functions. Modular programming\n",
    "5. Import modules\n",
    "\n",
    "**To solve this challenge, the use of functions is recommended.**\n",
    "\n",
    "#### 1. Import the choice function of the random module."
   ]
  },
  {
   "cell_type": "code",
   "execution_count": 1,
   "metadata": {},
   "outputs": [
    {
     "name": "stdout",
     "output_type": "stream",
     "text": [
      "Printing random choice from the list example= ['1', '2', '3']  using random.choice():\n",
      "2\n"
     ]
    }
   ],
   "source": [
    "import random\n",
    "\n",
    "\n",
    "\n",
    "example =['1','2','3']\n",
    "\n",
    "print(\"Printing random choice from the list example=\",example,\" using random.choice():\")\n",
    "print(random.choice(example))"
   ]
  },
  {
   "cell_type": "markdown",
   "metadata": {},
   "source": [
    "#### 2. Create a list that includes the 3 possible gesture options of the game: 'rock', 'paper' or 'scissors'. Store the list in a variable called `gestures`."
   ]
  },
  {
   "cell_type": "code",
   "execution_count": 2,
   "metadata": {},
   "outputs": [],
   "source": [
    "gestures = ['rock','paper','scissors']"
   ]
  },
  {
   "cell_type": "markdown",
   "metadata": {},
   "source": [
    "#### 3. Create a variable called `n_rounds` to store the maximum number of rounds to play in a game. \n",
    "Remember that the number of rounds must be odd: 1, 3, 5, ..."
   ]
  },
  {
   "cell_type": "code",
   "execution_count": 3,
   "metadata": {},
   "outputs": [],
   "source": [
    "n_rounds =3\n",
    "current_round = 1\n"
   ]
  },
  {
   "cell_type": "markdown",
   "metadata": {},
   "source": [
    "#### 4. Create a variable called `rounds_to_win` to store the number of rounds that a player must win to win the game.\n",
    "**Hint**: the value stored in `rounds_to_win` depends on the value of `n_rounds`. "
   ]
  },
  {
   "cell_type": "code",
   "execution_count": 4,
   "metadata": {},
   "outputs": [],
   "source": [
    "rounds_to_win = (n_rounds+1)/2"
   ]
  },
  {
   "cell_type": "markdown",
   "metadata": {},
   "source": [
    "#### 5. Create two variables to store the number of rounds that the computer and the player have won. Call these variables `cpu_score` and `player_score`."
   ]
  },
  {
   "cell_type": "code",
   "execution_count": 5,
   "metadata": {},
   "outputs": [],
   "source": [
    "cpu_score =0\n",
    "player_score =0"
   ]
  },
  {
   "cell_type": "markdown",
   "metadata": {},
   "source": [
    "#### 6. Define a function that randomly returns one of the 3 gesture options.\n",
    "You will use this function to simulate the gesture choice of the computer. "
   ]
  },
  {
   "cell_type": "code",
   "execution_count": 6,
   "metadata": {},
   "outputs": [],
   "source": [
    "def computerGesture(gestures):\n",
    "    return random.choice(gestures)\n",
    "\n",
    "cpu_gesture=computerGesture(gestures)\n"
   ]
  },
  {
   "cell_type": "markdown",
   "metadata": {},
   "source": [
    "#### 7. Define a function that asks the player which is the gesture he or she wants to show: 'rock', 'paper' or 'scissors'.\n",
    "The player should only be allowed to choose one of the 3 gesture options. If the player's choice is not rock, paper or scissors, keep asking until it is."
   ]
  },
  {
   "cell_type": "code",
   "execution_count": 7,
   "metadata": {},
   "outputs": [
    {
     "name": "stdout",
     "output_type": "stream",
     "text": [
      "Make your choice: pap\n",
      "\n",
      "Your reply is invalid, please try again\n",
      "\n",
      "Make your choice: paper\n"
     ]
    }
   ],
   "source": [
    "# I will use the input function here to accept input from the player and the .lower to capture a mistake due to capital letters\n",
    "def playerGesture(gestures):\n",
    "#print(gestures)\n",
    "    toto=1\n",
    "    while toto==1:\n",
    "        player_gesture = input(\"\\nMake your choice: \").lower()\n",
    "        if player_gesture in gestures:\n",
    "            toto=0\n",
    "        else:\n",
    "            print(\"\\nYour reply is invalid, please try again\\n\")\n",
    "    return player_gesture\n",
    "\n",
    "player_gesture=playerGesture(gestures)"
   ]
  },
  {
   "cell_type": "raw",
   "metadata": {},
   "source": [
    "#### 8. Define a function that checks who won a round. \n",
    "The function should return 0 if there is a tie, 1 if the computer wins and 2 if the player wins."
   ]
  },
  {
   "cell_type": "code",
   "execution_count": 8,
   "metadata": {},
   "outputs": [
    {
     "name": "stdout",
     "output_type": "stream",
     "text": [
      "paper scissors Computer wins this round!,sorry :(\n"
     ]
    }
   ],
   "source": [
    "def round_winner(player_gesture,cpu_gesture):\n",
    "    if player_gesture == cpu_gesture:\n",
    "        return 0\n",
    "    elif player_gesture == 'rock':\n",
    "        if cpu_gesture == 'paper':\n",
    "            return 1\n",
    "        else:\n",
    "            return 2\n",
    "    elif player_gesture == 'paper':\n",
    "        if cpu_gesture =='scissors':\n",
    "            return 1\n",
    "        else:\n",
    "            return 2\n",
    "    elif player_gesture == 'scissors':\n",
    "        if cpu_gesture == 'rock':\n",
    "            return 1\n",
    "        else:\n",
    "            return 2     \n",
    "round_result=round_winner(player_gesture,cpu_gesture)    \n",
    "result_messages = [\"Is a tie!\",\"Computer wins this round!,sorry :(\",\"You win this round!, hooray!\"]\n",
    "result=result_messages[round_result]\n",
    "\n",
    "print (player_gesture,cpu_gesture,result)"
   ]
  },
  {
   "cell_type": "markdown",
   "metadata": {},
   "source": [
    "#### 9. Define a function that prints the choice of the computer, the choice of the player and a message that announces who won the current round. \n",
    "You should also use this function to update the variables that count the number of rounds that the computer and the player have won. The score of the winner increases by one point. If there is a tie, the score does not increase."
   ]
  },
  {
   "cell_type": "code",
   "execution_count": 9,
   "metadata": {},
   "outputs": [
    {
     "name": "stdout",
     "output_type": "stream",
     "text": [
      "\n",
      "The computer's choice is : scissors \n",
      " Computer wins this round!,sorry :( \n",
      "Total rounds won by Computer: 0 \n",
      "Total rounds won by player: 0\n"
     ]
    }
   ],
   "source": [
    "def print_result(cpu_gesture,player_gesture,result,cpu_score,player_score):\n",
    "    print(\"The computer's choice is :\",cpu_gesture,\"\\n\",result,\"\\nTotal rounds won by Computer:\",cpu_score,\"\\nTotal rounds won by player:\",player_score)\n",
    "\n",
    "print_result(cpu_gesture,player_gesture,result,cpu_score,player_score)"
   ]
  },
  {
   "cell_type": "markdown",
   "metadata": {},
   "source": [
    "#### 10. Now it's time to code the execution of the game using the functions and variables you defined above. \n",
    "\n",
    "First, create a loop structure that repeats while no player reaches the minimum score necessary to win and the number of rounds is less than the maximum number of rounds to play in a game.  \n",
    "\n",
    "Inside the loop, use the functions and variables above to create the execution of a round: ask for the player's choice, generate the random choice of the computer, show the round results, update the scores, etc. "
   ]
  },
  {
   "cell_type": "code",
   "execution_count": 10,
   "metadata": {},
   "outputs": [
    {
     "name": "stdout",
     "output_type": "stream",
     "text": [
      "Make your choice: paper\n",
      "\n",
      "The computer's choice is : paper \n",
      " Is a tie! \n",
      "Total rounds won by Computer: 0 \n",
      "Total rounds won by player: 0\n",
      "Make your choice: paper\n",
      "\n",
      "The computer's choice is : scissors \n",
      " Computer wins this round!,sorry :( \n",
      "Total rounds won by Computer: 1 \n",
      "Total rounds won by player: 0\n",
      "Make your choice: scissors\n",
      "\n",
      "The computer's choice is : scissors \n",
      " Is a tie! \n",
      "Total rounds won by Computer: 1 \n",
      "Total rounds won by player: 0\n"
     ]
    }
   ],
   "source": [
    "n_rounds = 3\n",
    "current_round=1\n",
    "rounds_to_win = (n_rounds+1)/2\n",
    "\n",
    "win=0\n",
    "cpu_score =0\n",
    "player_score =0\n",
    "\n",
    "gestures = ['rock','paper','scissors']\n",
    "result_messages = [\"Is a tie!\",\"Computer wins this round!,sorry :(\",\"You win this round!, hooray!\"]\n",
    "\n",
    "\n",
    "while current_round <= 3:\n",
    "    if cpu_score <= rounds_to_win or player_score <= rounds_to_win:\n",
    "        cpu_gesture = computerGesture(gestures)\n",
    "        player_gesture=playerGesture(gestures)\n",
    "        round_result=round_winner(player_gesture,cpu_gesture)\n",
    "        #cpu_score=0\n",
    "        #player_score=0\n",
    "        if round_result == 1:\n",
    "            cpu_score+=1\n",
    "            remaining_rounds=n_rounds -current_round\n",
    "        elif round_result ==2:\n",
    "            player_score +=1\n",
    "            remaining_rounds=n_rounds -current_round\n",
    "        result=result_messages[round_result]\n",
    "        win+=max(player_score,cpu_score)\n",
    "        print_result(cpu_gesture,player_gesture,result,cpu_score,player_score)\n",
    "        current_round+=1\n",
    "    "
   ]
  },
  {
   "cell_type": "raw",
   "metadata": {},
   "source": [
    "#### 11. Print the winner of the game based on who won more rounds.\n",
    "Remember that the game might be tied. "
   ]
  },
  {
   "cell_type": "code",
   "execution_count": 11,
   "metadata": {},
   "outputs": [
    {
     "name": "stdout",
     "output_type": "stream",
     "text": [
      "Computer wins!\n"
     ]
    }
   ],
   "source": [
    "def winner(cpu_score,player_score):\n",
    "    if cpu_score > player_score:\n",
    "        return \"Computer wins!\"\n",
    "    if cpu_score < player_score:\n",
    "        return \"Player, you win!\"\n",
    "    else:\n",
    "        return \"is a tie!\"\n",
    "print(winner(cpu_score,player_score))"
   ]
  },
  {
   "cell_type": "markdown",
   "metadata": {},
   "source": [
    "# Bonus: Rock, Paper, Scissors, Lizard & Spock\n",
    "![](images/rpsls.jpg)\n",
    "\n",
    "In this challenge, you need to improve the previous game by adding two new options. To know more about the rules of the improved version of rock, paper, scissors, check this [link](http://www.samkass.com/theories/RPSSL.html). \n",
    "\n",
    "In addition, you will also need to improve how the game interacts with the player: the number of rounds to play, which must be an odd number, will be requested to the user until a valid number is entered. Define a new function to make that request.\n",
    "\n",
    "**Hint**: Try to reuse the code that you already coded in the previous challenge. If your code is efficient, this bonus will only consist of simple modifications to the original game."
   ]
  },
  {
   "cell_type": "code",
   "execution_count": 17,
   "metadata": {},
   "outputs": [
    {
     "name": "stdout",
     "output_type": "stream",
     "text": [
      "choose an odd number of rounds 6\n",
      "\n",
      "Your reply is invalid, please try again\n",
      "\n",
      "choose an odd number of rounds 5\n",
      "\n",
      "Make your gesture choice: paper\n",
      "Computer chose:  spock \n",
      " You win this round!, hooray! \n",
      "Total rounds won by Computer: 0 \n",
      "Total rounds won by you player: 1\n",
      "\n",
      "Make your gesture choice: paper\n",
      "Computer chose:  spock \n",
      " You win this round!, hooray! \n",
      "Total rounds won by Computer: 0 \n",
      "Total rounds won by you player: 2\n",
      "\n",
      "Make your gesture choice: paper\n",
      "Computer chose:  lizard \n",
      " Computer wins this round! \n",
      "Total rounds won by Computer: 1 \n",
      "Total rounds won by you player: 2\n",
      "\n",
      "Make your gesture choice: paper\n",
      "Computer chose:  rock \n",
      " You win this round!, hooray! \n",
      "Total rounds won by Computer: 1 \n",
      "Total rounds won by you player: 3\n",
      "\n",
      "Make your gesture choice: paper\n",
      "Computer chose:  spock \n",
      " You win this round!, hooray! \n",
      "Total rounds won by Computer: 1 \n",
      "Total rounds won by you player: 4\n",
      "\n",
      "Player, you are the winner!\n",
      "\n"
     ]
    }
   ],
   "source": [
    "Ngestures = ['rock','paper','scissors','spock','lizard']\n",
    "Nresult_messages = [\"Is a tie!\",\"Computer wins this round!\",\"You win this round!, hooray!\"]\n",
    "\n",
    "def max_rounds():\n",
    "    t=1\n",
    "    while t==1:\n",
    "        Nn_rounds = int(input(\"choose an odd number of rounds \"))\n",
    "        if (Nn_rounds %2)!=0:\n",
    "            t=0\n",
    "        else:\n",
    "            t=1\n",
    "            print(\"\\nYour reply is invalid, please try again\\n\")\n",
    "    return Nn_rounds\n",
    "\n",
    "def NcomputerGesture(Ngestures):\n",
    "    return random.choice(Ngestures)\n",
    "\n",
    "def NplayerGesture(Ngestures):\n",
    "    o=1\n",
    "    while o==1:\n",
    "        Nplayer_gesture = input(\"\\nMake your gesture choice: \").lower()\n",
    "        if Nplayer_gesture in Ngestures:\n",
    "            o=0\n",
    "        else:\n",
    "            print(\"\\nYour reply is invalid, please try again\\n\")\n",
    "    return Nplayer_gesture\n",
    "\n",
    "def Nround_winner(Nplayer_gesture,Ncpu_gesture):\n",
    "    if Nplayer_gesture == Ncpu_gesture:\n",
    "        return 0\n",
    "    elif Nplayer_gesture == 'rock':\n",
    "        if Ncpu_gesture == 'paper'or Ncpu_gesture =='spock':\n",
    "            return 1\n",
    "        else:\n",
    "            return 2\n",
    "    elif Nplayer_gesture == 'paper':\n",
    "        if Ncpu_gesture =='scissors'or Ncpu_gesture =='lizard':\n",
    "            return 1\n",
    "        else:\n",
    "            return 2\n",
    "    elif Nplayer_gesture == 'scissors':\n",
    "        if Ncpu_gesture == 'rock'or Ncpu_gesture =='spock':\n",
    "            return 1\n",
    "        else:\n",
    "            return 2   \n",
    "    elif Nplayer_gesture == 'spock':\n",
    "        if Ncpu_gesture == 'lizard'or Ncpu_gesture =='paper':\n",
    "            return 1\n",
    "        else:\n",
    "            return 2 \n",
    "    elif Nplayer_gesture == 'lizard':\n",
    "        if Ncpu_gesture == 'paper'or Ncpu_gesture =='scissors':\n",
    "            return 1\n",
    "        else:\n",
    "            return 2 \n",
    "\n",
    "def Nwinner(Ncpu_score,Nplayer_score):\n",
    "    if Ncpu_score > Nplayer_score:\n",
    "        return \"\\nComputer is the winner!\\n\"\n",
    "    if Ncpu_score < Nplayer_score:\n",
    "        return \"\\nPlayer, you are the winner!\\n\"\n",
    "    else:\n",
    "        return \"\\n Houston: we have a tie!\\n\"\n",
    "\n",
    "def Nprint_result(Ncpu_gesture,Nplayer_gesture,Nresult,Ncpu_score,Nplayer_score):\n",
    "    print(\"Computer chose: \",Ncpu_gesture,\"\\n\",Nresult,\"\\nTotal rounds won by Computer:\",Ncpu_score,\"\\nTotal rounds won by you player:\",Nplayer_score)\n",
    "\n",
    "max_rounds()\n",
    "Ncurrent_round=1\n",
    "Nrounds_to_win = (Nn_rounds+1)/2\n",
    "Nwin=0\n",
    "Ncpu_score =0\n",
    "Nplayer_score =0\n",
    "\n",
    "\n",
    "while Ncurrent_round <= Nn_rounds:\n",
    "    if Ncpu_score <= Nrounds_to_win or Nplayer_score <= Nrounds_to_win:\n",
    "        Ncpu_gesture = NcomputerGesture(Ngestures)\n",
    "        Nplayer_gesture=NplayerGesture(Ngestures)\n",
    "        Nround_result=Nround_winner(Nplayer_gesture,Ncpu_gesture)\n",
    "        if Nround_result == 1:\n",
    "            Ncpu_score+=1\n",
    "        elif Nround_result ==2:\n",
    "            Nplayer_score +=1\n",
    "        Nresult=Nresult_messages[Nround_result]\n",
    "        win+=max(Nplayer_score,Ncpu_score)\n",
    "        Nprint_result(Ncpu_gesture,Nplayer_gesture,Nresult,Ncpu_score,Nplayer_score)\n",
    "        Ncurrent_round+=1\n",
    "\n",
    "print(Nwinner(Ncpu_score,Nplayer_score))"
   ]
  },
  {
   "cell_type": "code",
   "execution_count": null,
   "metadata": {},
   "outputs": [],
   "source": []
  },
  {
   "cell_type": "code",
   "execution_count": null,
   "metadata": {},
   "outputs": [],
   "source": []
  }
 ],
 "metadata": {
  "kernelspec": {
   "display_name": "Python 3",
   "language": "python",
   "name": "python3"
  },
  "language_info": {
   "codemirror_mode": {
    "name": "ipython",
    "version": 3
   },
   "file_extension": ".py",
   "mimetype": "text/x-python",
   "name": "python",
   "nbconvert_exporter": "python",
   "pygments_lexer": "ipython3",
   "version": "3.8.5"
  }
 },
 "nbformat": 4,
 "nbformat_minor": 2
}
