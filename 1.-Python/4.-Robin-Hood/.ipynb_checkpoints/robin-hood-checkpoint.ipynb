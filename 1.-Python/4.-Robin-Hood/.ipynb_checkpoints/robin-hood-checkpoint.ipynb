{
 "cells": [
  {
   "cell_type": "markdown",
   "metadata": {},
   "source": [
    "<img src=\"https://bit.ly/2VnXWr2\" width=\"100\" align=\"left\"/>"
   ]
  },
  {
   "cell_type": "markdown",
   "metadata": {},
   "source": [
    "# Robin Hood\n",
    "Robin Hood has entered a competition to win the archery contest in Sherwood. With his bow and arrows, he needs to shoot on a target and try to hit as close as possible to the center.\n",
    "\n",
    "![](images/arrows.jpg)\n",
    "\n",
    "## Context\n",
    "In this challenge, the landing position of arrows shot by archers in the competition will be represented using 2-dimensional coordinates. \n",
    "\n",
    "In the 2-dimensional space, a point can be defined by a pair of values that correspond to the horizontal coordinate (x) and the vertical coordinate (y). For example, in our case, an arrow that hits the center of the archery target will land in position (0, 0) on the coordinate axes. \n",
    "\n",
    "The space can be divided into 4 zones (quadrants): Q1, Q2, Q3, Q4. If a point is in Q1, both its x coordinate and y coordinate are positive. Any point with a null x or y coordinate is considered to not belong to any quadrant. \n",
    "\n",
    "If you want to know more about the cartesian coordinate system, you can check this [link](https://en.wikipedia.org/wiki/Cartesian_coordinate_system). \n",
    "\n",
    "## Tools\n",
    "You don't necessarily need to use all the tools. Maybe you opt to use some of them or completely different ones, they are given to help you shape the exercise. Programming exercises can be solved in many different ways.\n",
    "* Data structures: **lists, sets, tuples**\n",
    "* Conditional statements: **if-elif-else**\n",
    "* Loop: **while/for**\n",
    "* Minimum (optional sorting)\n",
    "\n",
    "## Tasks\n",
    "Robin Hood has hit the following points:"
   ]
  },
  {
   "cell_type": "code",
   "execution_count": 143,
   "metadata": {},
   "outputs": [
    {
     "name": "stdout",
     "output_type": "stream",
     "text": [
      "22\n"
     ]
    }
   ],
   "source": [
    "points = [(4, 5), (-0, 2), (4, 7), (1, -3), (3, -2), (4, 5), (3, 2), (5, 7), (-5, 7), (2, 2), (-4, 5), (0, -2),\n",
    "          (-4, 7), (-1, 3), (-3, 2), (-4, -5), (-3, 2), (5, 7), (5, 7), (2, 2), (9, 9), (-8, -9)]\n",
    "print(len(points))"
   ]
  },
  {
   "cell_type": "markdown",
   "metadata": {},
   "source": [
    "#### 1. Robin Hood is famous for hitting an arrow with another arrow. Find the coordinates of the points where an arrow hits another arrow."
   ]
  },
  {
   "cell_type": "code",
   "execution_count": 144,
   "metadata": {},
   "outputs": [
    {
     "name": "stdout",
     "output_type": "stream",
     "text": [
      "The coordinates of the point where Robin's arrow hits another arrow are: [(-3, 2), (4, 5), (5, 7), (2, 2)]\n"
     ]
    }
   ],
   "source": [
    "hits_onarrow = list(set([point for point in points\n",
    "            if points.count(point) > 1]))\n",
    "print(\"The coordinates of the point where Robin's arrow hits another arrow are:\",hits_onarrow)"
   ]
  },
  {
   "cell_type": "markdown",
   "metadata": {},
   "source": [
    "#### 2. Calculate how many arrows have fallen in each quadrant. \n",
    "**Note**: the arrows that fall in the axis (x=0 or y=0) don't belong to any quadrant."
   ]
  },
  {
   "cell_type": "code",
   "execution_count": 145,
   "metadata": {},
   "outputs": [
    {
     "name": "stdout",
     "output_type": "stream",
     "text": [
      "10 arrows landed in quadrant I. \n",
      " 6 arrows landed in quadrant II. \n",
      " 2 arrow landed in quadrant III. \n",
      " 2 arrows landed in quadrant IV. \n",
      " 2 arrows landed in the axis.\n"
     ]
    }
   ],
   "source": [
    "arrow_Q1=0\n",
    "arrow_Q2=0\n",
    "arrow_Q3=0\n",
    "arrow_Q4=0\n",
    "arrow_axis =0\n",
    "\n",
    "for point in points:\n",
    "    if point[0] > 0 and point[1] > 0:\n",
    "            arrow_Q1 +=1\n",
    "    elif point[0]< 0 and point[1] > 0:\n",
    "            arrow_Q2 +=1\n",
    "    elif point[0] < 0 and point[1] < 0:\n",
    "            arrow_Q3 +=1\n",
    "    elif point[0] > 0 and point[1] < 0:\n",
    "            arrow_Q4 +=1 \n",
    "    else:\n",
    "            arrow_axis +=1\n",
    "    \n",
    "print(arrow_Q1,\"arrows landed in quadrant I. \\n\",arrow_Q2,\"arrows landed in quadrant II. \\n\",\n",
    "          arrow_Q3,\"arrow landed in quadrant III. \\n\",arrow_Q4,\"arrows landed in quadrant IV. \\n\",\n",
    "      arrow_axis,\"arrows landed in the axis.\")"
   ]
  },
  {
   "cell_type": "markdown",
   "metadata": {},
   "source": [
    "#### 3. Find the point closest to the center. Calculate its distance to the center. \n",
    "Take into account that there might be more than one point at the minimum distance to the center.\n",
    "\n",
    "**Hint**: Use the Euclidean distance. You can find more information about it [here](https://en.wikipedia.org/wiki/Euclidean_distance).  \n",
    "**Hint**: Defining a function that calculates the distance to the center can help."
   ]
  },
  {
   "cell_type": "code",
   "execution_count": 149,
   "metadata": {},
   "outputs": [
    {
     "name": "stdout",
     "output_type": "stream",
     "text": [
      "These are the unique points in our Euclidean plane.\n",
      " \n",
      "u_points = [(-5, 7), (3, -2), (-4, 7), (-4, 5), (9, 9), (5, 7), (4, 5), (0, 2), (1, -3), (-1, 3), (-4, -5), (2, 2), (-3, 2), (3, 2), (-8, -9), (0, -2), (4, 7)] .\n",
      " \n",
      "This list contains now 17 unique points, instead of 22 points.\n",
      "\n",
      "The following lists represent the x and y values of the unique points above: \n",
      "\n",
      "x_values = [-5, 3, -4, -4, 9, 5, 4, 0, 1, -1, -4, 2, -3, 3, -8, 0, 4] (with len of 17 ).\n",
      "y_values = [7, -2, 7, 5, 9, 7, 5, 2, -3, 3, -5, 2, 2, 2, -9, -2, 7] (with len of 17 ).\n",
      "\n",
      "If we were to create a dictionary with the unique points, in order to perhaps locate them later, this would be the result: \n",
      "uniques= {0: (-5, 7), 1: (3, -2), 2: (-4, 7), 3: (-4, 5), 4: (9, 9), 5: (5, 7), 6: (4, 5), 7: (0, 2), 8: (1, -3), 9: (-1, 3), 10: (-4, -5), 11: (2, 2), 12: (-3, 2), 13: (3, 2), 14: (-8, -9), 15: (0, -2), 16: (4, 7)}\n",
      "\n",
      "Rounding the values to the 2nd decimal, the list of distances to the center looks like: \n",
      "d_center = [8.6, 3.61, 8.06, 6.4, 12.73, 8.6, 6.4, 2.0, 3.16, 3.16, 6.4, 2.83, 3.61, 3.61, 12.04, 2.0, 8.06]\n",
      "\n",
      "There are 2 closest points to the center in the list of unique points.\n",
      "These points have the following coordinates: [(0, 2), (0, -2)] and a distance to the center of: 2.0 each.\n"
     ]
    }
   ],
   "source": [
    "##Euclidean distance (d) between two points P(xp,yp) and Q(xq,yq) is d(p,q) = ((xq-xp)**2 + (yq-yp)**2 )**0.5\n",
    "## Distance to the center where center is C(xc,yc) and xc=0 yc=0 is d(c,p)= ((xp-0)**2 +(yp-0)**2)**0.5\n",
    "\n",
    "## First, let's sort the duplicate point, or where an arrow hit another arrow:\n",
    "\n",
    "u_points = list(set(points))\n",
    "print(\"These are the unique points in our Euclidean plane.\\n \\nu_points =\",u_points,\n",
    "      \".\\n \\nThis list contains now\",len(u_points),\"unique points, instead of\",len(points),\"points.\\n\")\n",
    "\n",
    "## Let's separate the Xpoint and Ypoint of the list of u_points' coordinates:\n",
    "\n",
    "x_values = []\n",
    "y_values = []\n",
    "\n",
    "\n",
    "for u in u_points:\n",
    "    x_values.append(u[0])\n",
    "    y_values.append(u[-1])\n",
    "print(\"The following lists represent the x and y values of the unique points above: \\n\\nx_values =\",x_values,\"(with len of\",len(x_values),\").\"\"\\ny_values =\",y_values,\"(with len of\",len(y_values),\").\")\n",
    "\n",
    "\n",
    "## Enumerate points in u_points for later:\n",
    "\n",
    "uniques = dict(enumerate(u_points))\n",
    "print(\"\\nIf we were to create a dictionary with the unique points, in order to perhaps locate them later, this would be the result: \\nuniques=\",uniques)\n",
    "\n",
    "## Center point has a x value of 0 and y value of 0, so distance d(point,0)= (xp**2 - qp**2)**0.5. \n",
    "## The list d_center will gather the distances of each point in u_points to the center \n",
    "\n",
    "nb_point=0\n",
    "total_points =len(u_points)\n",
    "d_center = []\n",
    "d=0\n",
    "while nb_point < total_points:\n",
    "    for x in x_values:\n",
    "        d=((x_values[nb_point])**2 + (y_values[nb_point])**2)**0.5\n",
    "        d_center.append(d)\n",
    "        nb_point +=1\n",
    "\n",
    "formatted_d_center = [round(d,2) for d in d_center] \n",
    "print(\"\\nRounding the values to the 2nd decimal, the list of distances to the center looks like: \\nd_center =\",formatted_d_center)\n",
    "\n",
    "## Finding all the closest points to the center (lower distances using min), their index value(using enumerate) and coordinates (using dictionnary)\n",
    "\n",
    "min_value = min(formatted_d_center)##gives the first min\n",
    "\n",
    "all_min=[f for f, x in enumerate(formatted_d_center) if x == min_value]#checks for all mins\n",
    "\n",
    "coordinates =[]\n",
    "for i in all_min:\n",
    "       for k,v in uniques.items():\n",
    "                if i == k :\n",
    "                    coordinates.append(uniques[k])\n",
    "\n",
    "\n",
    "## finding the point using the dictionnary\n",
    "print(\"\\nThere are\",len(all_min),\"closest points to the center in the list of unique points.\\nThese points have the following coordinates:\",coordinates,\"and a distance to the center of:\",min_value,\"each.\")\n",
    "\n",
    "\n",
    "\n",
    "\n",
    "\n",
    "\n"
   ]
  },
  {
   "cell_type": "markdown",
   "metadata": {},
   "source": [
    "#### 4. If the archery target has a radius of 9, calculate the number of arrows that won't hit the target. \n",
    "**Hint**: Use the function created in step 3. "
   ]
  },
  {
   "cell_type": "code",
   "execution_count": 154,
   "metadata": {},
   "outputs": [
    {
     "name": "stdout",
     "output_type": "stream",
     "text": [
      "(9, 9) only one arrow on this point\n",
      "(-8, -9) only one arrow on this point\n",
      "\n",
      " 2 points are located outside the archery target and 2 arrows, will not hit the archery\n"
     ]
    }
   ],
   "source": [
    "##First I check the point that are out of the archery target\n",
    "P_out = [f for f, x in enumerate(formatted_d_center) if x >9]\n",
    "coordinates_out =[]\n",
    "for i in P_out:\n",
    "       for k,v in uniques.items():\n",
    "                if i == k :\n",
    "                    coordinates_out.append(uniques[k])\n",
    "\n",
    "## Since several arrows landed on the same target (arrows > points), I need to check if the points out of the target\n",
    "## are in the duplicates i extracted earlier. If they are not, then only one arrow hit those points. \n",
    "a=0\n",
    "A_out =0\n",
    "for c in coordinates_out[a]:\n",
    "    if c in hits_onarrow:\n",
    "        print(f'{coordinates_out[a]} more than one arrow on this point')\n",
    "        A_out += points.count(c) \n",
    "    else:\n",
    "        print(f'{coordinates_out[a]} only one arrow on this point')\n",
    "        A_out +=1\n",
    "    a+=1\n",
    "        \n",
    "print(\"\\n\",len(out),\"points are located outside the archery target and\",A_out,\"arrows, will not hit the archery.\")"
   ]
  },
  {
   "cell_type": "code",
   "execution_count": null,
   "metadata": {},
   "outputs": [],
   "source": []
  },
  {
   "cell_type": "code",
   "execution_count": null,
   "metadata": {},
   "outputs": [],
   "source": []
  }
 ],
 "metadata": {
  "kernelspec": {
   "display_name": "Python 3",
   "language": "python",
   "name": "python3"
  },
  "language_info": {
   "codemirror_mode": {
    "name": "ipython",
    "version": 3
   },
   "file_extension": ".py",
   "mimetype": "text/x-python",
   "name": "python",
   "nbconvert_exporter": "python",
   "pygments_lexer": "ipython3",
   "version": "3.8.5"
  }
 },
 "nbformat": 4,
 "nbformat_minor": 2
}
