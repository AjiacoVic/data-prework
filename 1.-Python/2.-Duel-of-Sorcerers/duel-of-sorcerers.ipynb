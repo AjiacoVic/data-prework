{
 "cells": [
  {
   "cell_type": "markdown",
   "metadata": {},
   "source": [
    "<img src=\"https://bit.ly/2VnXWr2\" width=\"100\" align=\"left\">"
   ]
  },
  {
   "cell_type": "markdown",
   "metadata": {},
   "source": [
    "# Duel of Sorcerers\n",
    "You are witnessing an epic battle between two powerful sorcerers: Gandalf and Saruman. Each sorcerer has 10 spells of variable power in their mind and they are going to throw them one after the other. The winner of the duel will be the one who wins more of those clashes between spells. Spells are represented as a list of 10 integers whose value equals the power of the spell.\n",
    "```\n",
    "gandalf = [10, 11, 13, 30, 22, 11, 10, 33, 22, 22]\n",
    "saruman = [23, 66, 12, 43, 12, 10, 44, 23, 12, 17]\n",
    "```\n",
    "For example:\n",
    "- The first clash is won by Saruman: 10 against 23.\n",
    "- The second clash is won by Saruman: 11 against 66.\n",
    "- ...\n",
    "\n",
    "You will create two variables, one for each sorcerer, where the sum of clashes won will be stored. Depending on which variable is greater at the end of the duel, you will show one of the following three results on the screen:\n",
    "* Gandalf wins\n",
    "* Saruman wins\n",
    "* Tie\n",
    "\n",
    "<img src=\"images/content_lightning_bolt_big.jpg\" width=\"400\">"
   ]
  },
  {
   "cell_type": "markdown",
   "metadata": {},
   "source": [
    "## Tools\n",
    "You don't necessarily need to use all the tools. Maybe you opt to use some of them or completely different ones, they are given to help you shape the exercise. Programming exercises can be solved in many different ways.\n",
    "\n",
    "1. Data structures: **lists, dictionaries**\n",
    "2. Loop: **for loop**\n",
    "3. Conditional statements: **if-elif-else**\n",
    "4. Functions: **range(), len(), print()**\n",
    "\n",
    "## Tasks\n",
    "\n",
    "#### 1. Create two variables called `gandalf` and `saruman` and assign them the spell power lists. Create a variable called `spells` to store the number of spells that the sorcerers cast. "
   ]
  },
  {
   "cell_type": "code",
   "execution_count": 7,
   "metadata": {},
   "outputs": [],
   "source": [
    "gandalf= [10, 11, 13, 30, 22, 11, 10, 33, 22, 22]\n",
    "saruman = [23, 66, 12, 43, 12, 10, 44, 23, 12, 17]\n",
    "spells = {0:\"first spell\",1:\"second spell\",2:\"third spell\",\n",
    "          3:\"forth spell\",4:\"fifth spell\",5:\"sixth spell\",\n",
    "          6:\"seventh spell\",7:\"eight spell\",8:\"ninth spell\",9:\"tenth spell\"}"
   ]
  },
  {
   "cell_type": "markdown",
   "metadata": {},
   "source": [
    "#### 2. Create two variables called `gandalf_wins` and `saruman_wins`. Set both of them to 0. \n",
    "You will use these variables to count the number of clashes each sorcerer wins. "
   ]
  },
  {
   "cell_type": "code",
   "execution_count": 8,
   "metadata": {},
   "outputs": [],
   "source": [
    "gandalf_wins =0\n",
    "saruman_wins =0\n",
    "tie =0"
   ]
  },
  {
   "cell_type": "markdown",
   "metadata": {},
   "source": [
    "#### 3. Using the lists of spells of both sorcerers, update variables `gandalf_wins` and `saruman_wins` to count the number of times each sorcerer wins a clash. "
   ]
  },
  {
   "cell_type": "code",
   "execution_count": 9,
   "metadata": {},
   "outputs": [
    {
     "name": "stdout",
     "output_type": "stream",
     "text": [
      "Let the battle begin!\n",
      "Saruman wins the first spell with a spell power of 23!\n",
      "Saruman wins the second spell with a spell power of 66!\n",
      "Gandalf wins the third spell with a spell power of 13!\n",
      "Saruman wins the forth spell with a spell power of 43!\n",
      "Gandalf wins the fifth spell with a spell power of 22!\n",
      "Gandalf wins the sixth spell with a spell power of 11!\n",
      "Saruman wins the seventh spell with a spell power of 44!\n",
      "Gandalf wins the eight spell with a spell power of 33!\n",
      "Gandalf wins the ninth spell with a spell power of 22!\n",
      "Gandalf wins the tenth spell with a spell power of 22!\n"
     ]
    }
   ],
   "source": [
    "spell_clash=0               \n",
    "total_spells =len(gandalf)\n",
    "\n",
    "print(\"Let the battle begin!\")\n",
    "\n",
    "while spell_clash < total_spells :\n",
    "    if gandalf[spell_clash] < saruman[spell_clash]:\n",
    "        saruman_wins += 1\n",
    "        print(\"Saruman wins the %s with a spell power of %d!\" %(spells[spell_clash],saruman[spell_clash]))\n",
    "    elif gandalf[spell_clash]>saruman[spell_clash]:\n",
    "        gandalf_wins += 1\n",
    "        print(\"Gandalf wins the %s with a spell power of %d!\" %(spells[spell_clash],gandalf[spell_clash]))\n",
    "    else:\n",
    "        tie +=1\n",
    "        print( \"We have a tie on the %s casted!\" %spells[spell_clash])\n",
    "    spell_clash +=1\n"
   ]
  },
  {
   "cell_type": "markdown",
   "metadata": {},
   "source": [
    "#### 4. Who won the battle?\n",
    "Print `Gandalf wins`, `Saruman wins` or `Tie` depending on the result. "
   ]
  },
  {
   "cell_type": "code",
   "execution_count": 10,
   "metadata": {},
   "outputs": [
    {
     "name": "stdout",
     "output_type": "stream",
     "text": [
      "Gandalf wins the duel of sorcerers!\n"
     ]
    }
   ],
   "source": [
    "if gandalf_wins > saruman_wins:\n",
    "    print(\"Gandalf wins the duel of sorcerers!\")\n",
    "elif gandalf_wins < saruman_wins:\n",
    "    print(\"Saruman wins the duel of sorcerers!\")\n",
    "else:\n",
    "    print(\"The duel of sorcerers ends in a Tie!\")"
   ]
  },
  {
   "cell_type": "markdown",
   "metadata": {},
   "source": [
    "## Bonus\n",
    "\n",
    "In this bonus challenge, you'll need to check the winner of the battle but this time, a sorcerer wins if he succeeds in winning 3 spell clashes in a row.\n",
    "\n",
    "Also, the spells now have a name and there is a dictionary that associates that name to a power.\n",
    "\n",
    "```\n",
    "POWER = {\n",
    "    'Fireball': 50, \n",
    "    'Lightning bolt': 40, \n",
    "    'Magic arrow': 10, \n",
    "    'Black Tentacles': 25, \n",
    "    'Contagion': 45\n",
    "}\n",
    "\n",
    "gandalf = ['Fireball', 'Lightning bolt', 'Lightning bolt', 'Magic arrow', 'Fireball', \n",
    "           'Magic arrow', 'Lightning bolt', 'Fireball', 'Fireball', 'Fireball']\n",
    "saruman = ['Contagion', 'Contagion', 'Black Tentacles', 'Fireball', 'Black Tentacles', \n",
    "           'Lightning bolt', 'Magic arrow', 'Contagion', 'Magic arrow', 'Magic arrow']\n",
    "```\n",
    "\n",
    "#### 1. Create variables `POWER`, `gandalf` and `saruman` as seen above. Create a variable called `spells` to store the number of spells that the sorcerers cast. "
   ]
  },
  {
   "cell_type": "code",
   "execution_count": 9,
   "metadata": {},
   "outputs": [],
   "source": [
    "POWER = {\n",
    "    'Fireball': 50, \n",
    "    'Lightning bolt': 40, \n",
    "    'Magic arrow': 10, \n",
    "    'Black Tentacles': 25, \n",
    "    'Contagion': 45}\n",
    "gandalf = ['Fireball', 'Lightning bolt', 'Lightning bolt', 'Magic arrow', 'Fireball', \n",
    "           'Magic arrow', 'Lightning bolt', 'Fireball', 'Fireball', 'Fireball']\n",
    "saruman = ['Contagion', 'Contagion', 'Black Tentacles', 'Fireball', 'Black Tentacles', \n",
    "           'Lightning bolt', 'Magic arrow', 'Contagion', 'Magic arrow', 'Magic arrow']\n",
    "spells = {0:\"first spell\",1:\"second spell\",2:\"third spell\",\n",
    "          3:\"forth spell\",4:\"fifth spell\",5:\"sixth spell\",\n",
    "          6:\"seventh spell\",7:\"eight spell\",8:\"ninth spell\",9:\"tenth spell\"}"
   ]
  },
  {
   "cell_type": "markdown",
   "metadata": {},
   "source": [
    "#### 2. Create two variables called `gandalf_wins` and `saruman_wins`. Set both of them to 0. "
   ]
  },
  {
   "cell_type": "code",
   "execution_count": 10,
   "metadata": {},
   "outputs": [],
   "source": [
    "gandalf_wins = 0\n",
    "saruman_wins = 0\n",
    "tie =0"
   ]
  },
  {
   "cell_type": "markdown",
   "metadata": {},
   "source": [
    "#### 3. Create two variables called `gandalf_power` and `saruman_power` to store the list of spell powers of each sorcerer."
   ]
  },
  {
   "cell_type": "code",
   "execution_count": 11,
   "metadata": {},
   "outputs": [
    {
     "name": "stdout",
     "output_type": "stream",
     "text": [
      "gandalf_power = [50, 40, 40, 10, 50, 10, 40, 50, 50, 50]\n",
      "saruman_power = [45, 45, 25, 50, 25, 40, 10, 45, 10, 10]\n"
     ]
    }
   ],
   "source": [
    "gandalf_power=[]\n",
    "\n",
    "for g in gandalf:\n",
    "       for k,v in POWER.items():\n",
    "                if g == k :\n",
    "                    gandalf_power.append(POWER[k])\n",
    "print(\"gandalf_power =\",gandalf_power)\n",
    "\n",
    "saruman_power=[]\n",
    "for s in saruman:\n",
    "    for k,v in POWER.items():\n",
    "        if s==k:\n",
    "            saruman_power.append(POWER[k])\n",
    "print(\"saruman_power =\",saruman_power)"
   ]
  },
  {
   "cell_type": "markdown",
   "metadata": {},
   "source": [
    "#### 4. The battle starts! Using the variables you've created above, code the execution of spell clashes. Remember that a sorcerer wins if he succeeds in winning 3 spell clashes in a row. \n",
    "If a clash ends up in a tie, the counter of wins in a row is not restarted to 0. Remember to print who is the winner of the battle. "
   ]
  },
  {
   "cell_type": "code",
   "execution_count": 14,
   "metadata": {},
   "outputs": [
    {
     "name": "stdout",
     "output_type": "stream",
     "text": [
      "Let the bonus-battle begin!\n",
      "Gandalf wins the first spell!\n",
      "Saruman wins the second spell!\n",
      "Gandalf wins the third spell!\n",
      "Saruman wins the forth spell!\n",
      "Gandalf wins the fifth spell!\n",
      "Saruman wins the sixth spell!\n",
      "Gandalf wins the seventh spell!\n",
      "Gandalf wins the eight spell!\n",
      "Gandalf wins the ninth spell!\n",
      "Gandalf wins the tenth spell!\n",
      "\n",
      "Gandalf wins 21 clashes in total, and Saruman wins 9 clashes in total.\n",
      "Furthermore,\n",
      "Gandalf won 4 clashes in a row, and Saruman 0 in a row.\n",
      "Therefore, the winner is:\n",
      "Gandalf\n"
     ]
    }
   ],
   "source": [
    "count_g=0\n",
    "count_s=0\n",
    "spell_clash=0               \n",
    "total_spells =len(gandalf_power)\n",
    "\n",
    "def we_have_winner(bool) :\n",
    "    if count_g > 3 or count_s > 3:\n",
    "        we_have_winner = True  \n",
    "\n",
    "        \n",
    "print(\"Let the bonus-battle begin!\")\n",
    "\n",
    "while spell_clash < total_spells and we_have_winner :\n",
    "    if gandalf_power[spell_clash] > saruman_power[spell_clash]:\n",
    "        gandalf_wins += 1\n",
    "        if spell_clash >0 and count_g >=0 :\n",
    "            count_g += 1\n",
    "            count_s = 0\n",
    "        print(\"Gandalf wins the %s!\" %(spells[spell_clash]))\n",
    "    elif gandalf_power[spell_clash] < saruman_power[spell_clash]:\n",
    "        saruman_wins += 1\n",
    "        if spell_clash >0 and count_s >= 0:\n",
    "            count_s +=1\n",
    "            count_g =0\n",
    "        print(\"Saruman wins the %s!\" %(spells[spell_clash]))\n",
    "    else:\n",
    "        tie +=1\n",
    "        print( \"We have a tie on the %s casted!\" %spells[spell_clash])\n",
    "    spell_clash +=1\n",
    "\n",
    "print(\"\\nGandalf wins\",gandalf_wins,\"clashes in total, and Saruman wins\",saruman_wins,\"clashes in total.\\nFurthermore,\\nGandalf won\",count_g,\"clashes in a row, and Saruman\",count_s,\"in a row.\\nTherefore, the winner is:\")\n",
    "\n",
    "if count_g > count_s:\n",
    "    print(\"Gandalf\")\n",
    "elif count_g < count_s:\n",
    "    print(\"Saruman\")\n",
    "else:\n",
    "    print(\"Neither one. The battle was a tie\")"
   ]
  },
  {
   "cell_type": "markdown",
   "metadata": {},
   "source": [
    "#### 5. Find the average spell power of Gandalf and Saruman. "
   ]
  },
  {
   "cell_type": "code",
   "execution_count": 24,
   "metadata": {},
   "outputs": [
    {
     "name": "stdout",
     "output_type": "stream",
     "text": [
      "The average spell power of Gandalf is 39 .\n",
      "The average spell power of Saruman is 30 .\n"
     ]
    }
   ],
   "source": [
    "G_avgspellp =int(sum(gandalf_power)/len(gandalf_power))\n",
    "S_avgspellp =int(sum(saruman_power)/len(saruman_power))\n",
    "print(\"The average spell power of Gandalf is\",G_avgspellp,\".\\nThe average spell power of Saruman is\",S_avgspellp,\".\")"
   ]
  },
  {
   "cell_type": "markdown",
   "metadata": {},
   "source": [
    "#### 6. Find the standard deviation of the spell power of Gandalf and Saruman. "
   ]
  },
  {
   "cell_type": "code",
   "execution_count": 31,
   "metadata": {},
   "outputs": [
    {
     "name": "stdout",
     "output_type": "stream",
     "text": [
      "The standard deviation of Gandalf's spell power is 15.132745950421556 .\n",
      "The standard deviation of Saruman's spell power is 15.572411502397436 .\n"
     ]
    }
   ],
   "source": [
    "G_ss = sum((g-G_avgspellp)**2 for g in gandalf_power)\n",
    "G_stdev =(G_ss/len(gandalf_power))**0.5\n",
    "\n",
    "S_ss = sum((s-S_avgspellp)**2 for s in saruman_power)\n",
    "S_stdev =(S_ss/len(saruman_power))**0.5\n",
    "\n",
    "\n",
    "\n",
    "print(\"The standard deviation of Gandalf's spell power is\",G_stdev,\".\\nThe standard deviation of Saruman's spell power is\",S_stdev,\".\")"
   ]
  },
  {
   "cell_type": "code",
   "execution_count": null,
   "metadata": {},
   "outputs": [],
   "source": []
  }
 ],
 "metadata": {
  "kernelspec": {
   "display_name": "Python 3",
   "language": "python",
   "name": "python3"
  },
  "language_info": {
   "codemirror_mode": {
    "name": "ipython",
    "version": 3
   },
   "file_extension": ".py",
   "mimetype": "text/x-python",
   "name": "python",
   "nbconvert_exporter": "python",
   "pygments_lexer": "ipython3",
   "version": "3.8.5"
  }
 },
 "nbformat": 4,
 "nbformat_minor": 2
}
