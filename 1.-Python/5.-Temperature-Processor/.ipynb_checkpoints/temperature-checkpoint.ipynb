{
 "cells": [
  {
   "cell_type": "markdown",
   "metadata": {},
   "source": [
    "<img src=\"https://bit.ly/2VnXWr2\" width=\"100\" align=\"left\">"
   ]
  },
  {
   "cell_type": "markdown",
   "metadata": {},
   "source": [
    "# Temperature Sensor\n",
    "\n",
    "There is a temperature sensor in the processor of your company's server. The company wants to analyze the data provided by the sensor to decide if they should change the cooling system for a better one. As changing the cooling system is expensive and you are an excellent data analyst, you can't make a decision without basis.\n",
    "\n",
    "## Tools\n",
    "You don't necessarily need to use all the tools. Maybe you opt to use some of them or completely different ones, they are given to help you shape the exercise. Programming exercises can be solved in many different ways.\n",
    "1. Data structures: **lists**\n",
    "2. Loops: **list comprehension**\n",
    "3. Functions: **min, max, print, len**\n",
    "4. Conditional statements: **if-elif-else**\n",
    "\n",
    "## Tasks\n",
    "The temperatures measured throughout the 24 hours of a day are:"
   ]
  },
  {
   "cell_type": "code",
   "execution_count": 1,
   "metadata": {},
   "outputs": [],
   "source": [
    "temperatures_C = [33, 66, 65, 0, 59, 60, 62, 64, 70, 76, 80, 81, 80, 83, 90, 79, 61, 53, 50, 49, 53, 48, 45, 39]\n",
    "print(\"len of temperatures\",len(temperatures_C))"
   ]
  },
  {
   "cell_type": "markdown",
   "metadata": {},
   "source": [
    "The first element of the list is the temperature at 12am, the second element is the temperature at 1am, and so on. \n",
    "\n",
    "The company has decided that if one of the following events occurs, then the cooling system needs to be replaced for a new one to avoid damaging the processor.\n",
    "* More than 4 temperatures are greater than or equal to 70ºC.\n",
    "* Any temperature is above 80ºC.\n",
    "* The average temperature exceeds 65ºC.\n",
    "\n",
    "Follow the steps so that you can make the decision.\n",
    "\n",
    "#### 1. Find the minimum temperature of the day and store it in a variable."
   ]
  },
  {
   "cell_type": "code",
   "execution_count": 2,
   "metadata": {},
   "outputs": [],
   "source": [
    "min_temp_C = min(temperatures_C)\n",
    "print(\"The min temperature in the temperatures recorded is:\",min_temp_C,\"ºC\")"
   ]
  },
  {
   "cell_type": "markdown",
   "metadata": {},
   "source": [
    "#### 2. Find the maximum temperature of the day and store it in a variable."
   ]
  },
  {
   "cell_type": "code",
   "execution_count": 3,
   "metadata": {},
   "outputs": [],
   "source": [
    "max_temp_C = max(temperatures_C)\n",
    "print(\"The max temperature in the temperatures recorded is:\",max_temp_C,\"ºC\")"
   ]
  },
  {
   "cell_type": "markdown",
   "metadata": {},
   "source": [
    "#### 3. Create a list with the temperatures that are greater than or equal to 70ºC. Store it in a variable."
   ]
  },
  {
   "cell_type": "code",
   "execution_count": 4,
   "metadata": {},
   "outputs": [],
   "source": [
    "all_equalabove70C=[f for f, x in enumerate(temperatures_C) if x >= 70]\n",
    "print(\"There are\",len(all_equalabove70C),\"temperatures equal to or above 70ºC\")\n",
    "\n",
    "all_above80C =[f for f, x in enumerate(temperatures_C) if x > 80]\n",
    "print(\"There are\",len(all_above80C),\"temperatures strictly above 80ºC\")"
   ]
  },
  {
   "cell_type": "markdown",
   "metadata": {},
   "source": [
    "#### 4. Find the average temperature of the day and store it in a variable."
   ]
  },
  {
   "cell_type": "code",
   "execution_count": 5,
   "metadata": {},
   "outputs": [
    {
     "name": "stdout",
     "output_type": "stream",
     "text": [
      "The average temperature in ºC is 60.25 ºC\n"
     ]
    }
   ],
   "source": [
    "avg_temp_C =sum(temperatures_C)/len(temperatures_C)\n",
    "print(\"The average temperature in ºC is\",avg_temp_C,\"ºC\")"
   ]
  },
  {
   "cell_type": "markdown",
   "metadata": {},
   "source": [
    "#### 5. Imagine that there was a sensor failure at 3am and the data for that specific hour was not recorded. How would you estimate the missing value? Replace the current value of the list at 3am for an estimation. "
   ]
  },
  {
   "cell_type": "code",
   "execution_count": 6,
   "metadata": {},
   "outputs": [
    {
     "name": "stdout",
     "output_type": "stream",
     "text": [
      "[33, 66, 65, 60, 59, 60, 62, 64, 70, 76, 80, 81, 80, 83, 90, 79, 61, 53, 50, 49, 53, 48, 45, 39]\n"
     ]
    }
   ],
   "source": [
    "##I would estimate that th value be equal to the average value calculated previously.\n",
    "temperatures_C[3]=int(avg_temp_C)\n",
    "print(temperatures_C)"
   ]
  },
  {
   "cell_type": "markdown",
   "metadata": {},
   "source": [
    "#### 6. Bonus: the maintenance staff is from the United States and does not understand the international metric system. Help them by converting the temperatures from Celsius to Fahrenheit.\n",
    "To know more about temperature conversion check this [link](https://en.wikipedia.org/wiki/Conversion_of_units_of_temperature).\n",
    "\n",
    "**Formula**: \n",
    "\n",
    "$F = 1.8 * C + 32$"
   ]
  },
  {
   "cell_type": "code",
   "execution_count": 7,
   "metadata": {},
   "outputs": [
    {
     "name": "stdout",
     "output_type": "stream",
     "text": [
      "temperatures in Fahrenheit are as follows:\n",
      "temperatures_F = [91.4, 150.8, 149.0, 140.0, 138.2, 140.0, 143.6, 147.2, 158.0, 168.8, 176.0, 177.8, 176.0, 181.4, 194.0, 174.2, 141.8, 127.4, 122.0, 120.2, 127.4, 118.4, 113.0, 102.2]\n"
     ]
    }
   ],
   "source": [
    "hour=0\n",
    "f=0\n",
    "temp_F =[]\n",
    "for c in temperatures_C:\n",
    "    f=(temperatures_C[hour]*1.8)+32\n",
    "    temp_F.append(f)\n",
    "    hour+=1\n",
    "    \n",
    "temperatures_F = [round(x,2) for x in temp_F] \n",
    "print(\"temperatures in Fahrenheit are as follows:\\ntemperatures_F =\",temperatures_F)\n",
    "    \n",
    "    "
   ]
  },
  {
   "cell_type": "markdown",
   "metadata": {},
   "source": [
    "#### 7. Make a decision!\n",
    "Now it's time to make a decision taking into account what you have seen until now. \n",
    "\n",
    "Remember that if one of the following events occurs, then the cooling system needs to be replaced for a new one to avoid damaging the processor.\n",
    "* More than 4 temperatures are greater than or equal to 70ºC.\n",
    "* Any temperature is above 80ºC.\n",
    "* The average temperature exceeds 65ºC.\n",
    "\n",
    "#### To make your decision, check if any of the three conditions above is met. You might need to use some of the variables you created in steps 1 to 6. Print a message to show if the cooling system needs to be changed or not."
   ]
  },
  {
   "cell_type": "code",
   "execution_count": 8,
   "metadata": {},
   "outputs": [
    {
     "name": "stdout",
     "output_type": "stream",
     "text": [
      "Below are the values in Fahrenheit for temperatures in Celcius: 70ºC,80ºC and 65ºC : \n",
      "70ºC = 158.0 ºF\n",
      "80ºC = 176.0 ºF\n",
      "65ºC = 149.0 ºF\n",
      "\n",
      "The max temperature in Fahrenheit recorded is: 194.0 ºF. This value was calculated with a new value for the 3am record.\n",
      "There are 8 recorded temperatures in ºF equivalent to temperatures equal to or above 70ºC\n",
      "There are 3 recorded temperatures in ºF equivalent to temperatures strictly above 80ºC\n",
      "The new average temperature in ºF is 144.95 ºF. This new value takes in consideration the change of value for the 3am record\n",
      "\n",
      "Based on the list of requirements and the analysis done on the data recorded, the cooling system must be changed\n"
     ]
    }
   ],
   "source": [
    "##First, let's update the variables in the correct unit: ºF\n",
    "\n",
    "F_70C =(70*1.8)+32 \n",
    "F_80C =(80*1.8)+32\n",
    "F_65C =(65*1.8)+32\n",
    "\n",
    "print(\"Below are the values in Fahrenheit for temperatures in Celcius: 70ºC,80ºC and 65ºC : \")\n",
    "print(\"70ºC =\",F_70C,\"ºF\")\n",
    "print(\"80ºC =\",F_80C,\"ºF\")\n",
    "print(\"65ºC =\",F_65C,\"ºF\")\n",
    "\n",
    "\n",
    "max_temp_F = max(temperatures_F)\n",
    "print(\"\\nThe max temperature in Fahrenheit recorded is:\",max_temp_F,\"ºF. This value was calculated with a new value for the 3am record.\")\n",
    "\n",
    "all_equalabove70C_F=[f for f, x in enumerate(temperatures_F) if x >= F_70C]\n",
    "print(\"There are\",len(all_equalabove70C_F),\"recorded temperatures in ºF equivalent to temperatures equal to or above 70ºC\")\n",
    "\n",
    "\n",
    "all_above80C_F =[f for f, x in enumerate(temperatures_F) if x > F_80C]\n",
    "print(\"There are\",len(all_above80C_F),\"recorded temperatures in ºF equivalent to temperatures strictly above 80ºC\")\n",
    "\n",
    "\n",
    "avg_temp_F =sum(temperatures_F)/len(temperatures_F)\n",
    "print(\"The new average temperature in ºF is\",avg_temp_F,\"ºF. This new value takes in consideration the change of value for the 3am record\")\n",
    "\n",
    "\n",
    "\n",
    "replacing=0\n",
    "\n",
    "if (len(all_equalabove70C_F) > 4) or (len(all_above80C_F) != 0) or (avg_temp_F > F_65C):\n",
    "    replacing += 1\n",
    "else:\n",
    "    replacing =0\n",
    "\n",
    "if replacing >0:\n",
    "    print(\"\\nBased on the list of requirements and the analysis done on the data recorded, the cooling system must be changed\")\n",
    "else:\n",
    "    print(\"\\nBased on the list of requirements and the analysis done on the data recorded, the cooling system must NOT be changed\")"
   ]
  },
  {
   "cell_type": "markdown",
   "metadata": {},
   "source": [
    "## Bonus\n",
    "\n",
    "The company has decided that the decision you made is not valid. They want you to analyze the data again but this time, the conditions that need to be met in order to change the cooling system are different.\n",
    "\n",
    "This time, if one of the following events occurs, then the cooling system needs to be replaced:\n",
    "* The temperature is greater than 70ºC during more than 4 consecutive hours.\n",
    "* Any temperature is above 80ºC.\n",
    "* The average temperature exceeds 65ºC.\n",
    "\n",
    "Follow the steps so that you can make the decision.\n",
    "\n",
    "#### 1. Create a list with the hours where the temperature is greater than 70ºC. Store it in a variable."
   ]
  },
  {
   "cell_type": "code",
   "execution_count": 38,
   "metadata": {},
   "outputs": [
    {
     "name": "stdout",
     "output_type": "stream",
     "text": [
      "all_above70C = [9, 10, 11, 12, 13, 14, 15]\n"
     ]
    }
   ],
   "source": [
    "#The requirement above included the temperatures equal or above of 70, \n",
    "#this new requirement is with only values greater than 70.\n",
    "\n",
    "all_above70C = [i for i, x in enumerate(temperatures_C) if x >70]\n",
    "\n",
    "#since  the times \"match\" the index reference of the list (reference 0 = 12am (or 0am))then\n",
    "#list of references above = list of times too\n",
    "\n",
    "print(\"all_above70C =\",all_above70C)"
   ]
  },
  {
   "cell_type": "markdown",
   "metadata": {},
   "source": [
    "#### 2. Check if the list you created in step 1 has more than 4 consecutive hours. "
   ]
  },
  {
   "cell_type": "code",
   "execution_count": 81,
   "metadata": {},
   "outputs": [
    {
     "name": "stdout",
     "output_type": "stream",
     "text": [
      "There are 6 consecutive hours after the first time the temperature when up to 70ºC\n"
     ]
    }
   ],
   "source": [
    " \n",
    "s=0\n",
    "consecutive =0\n",
    "\n",
    "while s<len(all_above70C)-1:\n",
    "    for i in all_above70C:\n",
    "        s+=1\n",
    "        if s<7 and all_above70C[s] ==all_above70C[(s-1)] +1:\n",
    "            consecutive +=1  \n",
    "        elif s<7 and all_above70C[s] !=all_above70C[(s-1)] +1:\n",
    "            consecutive =0\n",
    "        else:\n",
    "            break\n",
    "            \n",
    "\n",
    "print(\"There are\",consecutive,\"consecutive hours after the first time the temperature when up to 70ºC\")"
   ]
  },
  {
   "cell_type": "markdown",
   "metadata": {},
   "source": [
    "#### 3. Make the decision!\n",
    "To make your decision, check if any of the three conditions is met. Print a message to show if the cooling system needs to be changed or not."
   ]
  },
  {
   "cell_type": "code",
   "execution_count": 82,
   "metadata": {},
   "outputs": [
    {
     "name": "stdout",
     "output_type": "stream",
     "text": [
      "\n",
      "Based on the new list of requirements and the analysis done on the data recorded, the cooling system needs to be changed\n"
     ]
    }
   ],
   "source": [
    "replacing=0\n",
    "\n",
    "if (len(all_above80C) != 0) or (avg_temp_C > 65) or consecutive > 4:\n",
    "    replacing += 1\n",
    "else:\n",
    "    replacing =0\n",
    "\n",
    "if replacing >0:\n",
    "    print(\"\\nBased on the new list of requirements and the analysis done on the data recorded, the cooling system needs to be changed\")\n",
    "else:\n",
    "    print(\"\\nBased on new the list of requirements and the analysis done on the data recorded, the cooling system doesn't need to be changed\")"
   ]
  },
  {
   "cell_type": "markdown",
   "metadata": {},
   "source": [
    "#### 4. Find the average value of the temperature lists (ºC and ºF). What is the relation between both average values?"
   ]
  },
  {
   "cell_type": "code",
   "execution_count": 83,
   "metadata": {},
   "outputs": [
    {
     "name": "stdout",
     "output_type": "stream",
     "text": [
      "Average value of temperatures_C is 60.25 \n",
      "Average value of temperatures_F is 144.95\n",
      "The average value of the temperature_C list is smaller than the average in Fahrenheit by 3.104518799586064 %\n"
     ]
    }
   ],
   "source": [
    "print(\"Average value of temperatures_C is\",avg_temp_C,\"\\nAverage value of temperatures_F is\",avg_temp_F)\n",
    "\n",
    "##Relation\n",
    "\n",
    "R= (avg_temp_C)*1.8+32\n",
    "\n",
    "if R > avg_temp_F:\n",
    "    print(\"The average value of the temperature_C list is higher than the average in Fahrenheit by\",((R-avg_temp_F)/R)*100,\"%\")\n",
    "if R < avg_temp_F:\n",
    "    print(\"The average value of the temperature_C list is smaller than the average in Fahrenheit by\",((avg_temp_F-R)/avg_temp_F)*100,\"%\")\n",
    "if R == avg_temp_C:\n",
    "    print(\"The average value of the temperature_C list is equal than the average in Fahrenheit \")"
   ]
  },
  {
   "cell_type": "markdown",
   "metadata": {},
   "source": [
    "#### 5. Find the standard deviation of the temperature lists (ºC and ºF). What is the relation between both standard deviations?"
   ]
  },
  {
   "cell_type": "code",
   "execution_count": 80,
   "metadata": {},
   "outputs": [
    {
     "name": "stdout",
     "output_type": "stream",
     "text": [
      "The standard deviation of temperatures_C is 14.85555451674558\n",
      "The standard deviation of temperatures_F is 26.35863236209345\n",
      "The standard deviation of the temperature_C list is smaller than the Fahrenheit\n"
     ]
    }
   ],
   "source": [
    "ss_C =sum((t-avg_temp_C)**2 for t in temperatures_C)\n",
    "std_dev_C =((ss_C)/len(temperatures_C))**0.5\n",
    "print(\"The standard deviation of temperatures_C is\",std_dev_C)\n",
    "ss_F =sum((p-avg_temp_F)**2 for p in temperatures_F)\n",
    "std_dev_F =((ss_F)/len(temperatures_F))**0.5\n",
    "print(\"The standard deviation of temperatures_F is\",std_dev_F)\n",
    "\n",
    "#Relation\n",
    "\n",
    "if std_dev_C > std_dev_F:\n",
    "    print(\"The standard deviation of the temperature_C list is higher than the Fahrenheit\")\n",
    "if std_dev_C < std_dev_F:\n",
    "    print(\"The standard deviation of the temperature_C list is smaller than the Fahrenheit\")\n",
    "if std_dev_C == std_dev_F:\n",
    "    print(\"The standard deviation of the temperature_C list is equal to the Fahrenheit\")"
   ]
  },
  {
   "cell_type": "code",
   "execution_count": null,
   "metadata": {},
   "outputs": [],
   "source": []
  }
 ],
 "metadata": {
  "kernelspec": {
   "display_name": "Python 3",
   "language": "python",
   "name": "python3"
  },
  "language_info": {
   "codemirror_mode": {
    "name": "ipython",
    "version": 3
   },
   "file_extension": ".py",
   "mimetype": "text/x-python",
   "name": "python",
   "nbconvert_exporter": "python",
   "pygments_lexer": "ipython3",
   "version": "3.8.5"
  }
 },
 "nbformat": 4,
 "nbformat_minor": 2
}
